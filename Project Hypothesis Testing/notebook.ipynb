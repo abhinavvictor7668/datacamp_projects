{
 "cells": [
  {
   "cell_type": "code",
   "execution_count": 1,
   "id": "c760a8c9",
   "metadata": {},
   "outputs": [],
   "source": [
    "import pandas as pd\n",
    "import matplotlib.pyplot as plt\n",
    "import seaborn as sns\n",
    "import pingouin"
   ]
  },
  {
   "cell_type": "code",
   "execution_count": 2,
   "id": "ceea1763",
   "metadata": {},
   "outputs": [],
   "source": [
    "men = pd.read_csv(\"men_results.csv\", parse_dates=[\"date\"])\n",
    "women = pd.read_csv(\"women_results.csv\", parse_dates=[\"date\"])"
   ]
  },
  {
   "cell_type": "code",
   "execution_count": 3,
   "id": "83d95436",
   "metadata": {},
   "outputs": [
    {
     "name": "stdout",
     "output_type": "stream",
     "text": [
      "<class 'pandas.core.frame.DataFrame'>\n",
      "RangeIndex: 44353 entries, 0 to 44352\n",
      "Data columns (total 7 columns):\n",
      " #   Column      Non-Null Count  Dtype         \n",
      "---  ------      --------------  -----         \n",
      " 0   Unnamed: 0  44353 non-null  int64         \n",
      " 1   date        44353 non-null  datetime64[ns]\n",
      " 2   home_team   44353 non-null  object        \n",
      " 3   away_team   44353 non-null  object        \n",
      " 4   home_score  44353 non-null  int64         \n",
      " 5   away_score  44353 non-null  int64         \n",
      " 6   tournament  44353 non-null  category      \n",
      "dtypes: category(1), datetime64[ns](1), int64(3), object(2)\n",
      "memory usage: 2.1+ MB\n",
      "None\n"
     ]
    }
   ],
   "source": [
    "men[\"tournament\"] = men[\"tournament\"].astype(\"category\")\n",
    "women[\"tournament\"] = women[\"tournament\"].astype(\"category\")\n",
    "print(men.info())"
   ]
  },
  {
   "cell_type": "code",
   "execution_count": 4,
   "id": "35635c94",
   "metadata": {},
   "outputs": [
    {
     "name": "stdout",
     "output_type": "stream",
     "text": [
      "<class 'pandas.core.frame.DataFrame'>\n",
      "Index: 384 entries, 25164 to 44352\n",
      "Data columns (total 7 columns):\n",
      " #   Column      Non-Null Count  Dtype         \n",
      "---  ------      --------------  -----         \n",
      " 0   Unnamed: 0  384 non-null    int64         \n",
      " 1   date        384 non-null    datetime64[ns]\n",
      " 2   home_team   384 non-null    object        \n",
      " 3   away_team   384 non-null    object        \n",
      " 4   home_score  384 non-null    int64         \n",
      " 5   away_score  384 non-null    int64         \n",
      " 6   tournament  384 non-null    category      \n",
      "dtypes: category(1), datetime64[ns](1), int64(3), object(2)\n",
      "memory usage: 26.9+ KB\n",
      "<class 'pandas.core.frame.DataFrame'>\n",
      "Index: 200 entries, 1600 to 4469\n",
      "Data columns (total 7 columns):\n",
      " #   Column      Non-Null Count  Dtype         \n",
      "---  ------      --------------  -----         \n",
      " 0   Unnamed: 0  200 non-null    int64         \n",
      " 1   date        200 non-null    datetime64[ns]\n",
      " 2   home_team   200 non-null    object        \n",
      " 3   away_team   200 non-null    object        \n",
      " 4   home_score  200 non-null    int64         \n",
      " 5   away_score  200 non-null    int64         \n",
      " 6   tournament  200 non-null    category      \n",
      "dtypes: category(1), datetime64[ns](1), int64(3), object(2)\n",
      "memory usage: 12.4+ KB\n"
     ]
    }
   ],
   "source": [
    "men_fifa = men[men[\"tournament\"] == \"FIFA World Cup\"]\n",
    "men_fifa = men_fifa[men_fifa[\"date\"] > \"2002-01-01\"]\n",
    "men_fifa.info()\n",
    "women_fifa = women[women[\"tournament\"] == \"FIFA World Cup\"]\n",
    "women_fifa = women_fifa[women_fifa[\"date\"] > \"2002-01-01\"]\n",
    "women_fifa.info()"
   ]
  },
  {
   "cell_type": "code",
   "execution_count": 5,
   "id": "b67b599c",
   "metadata": {},
   "outputs": [],
   "source": [
    "men_fifa[\"total_goals\"] = men_fifa[\"home_score\"] + men_fifa[\"away_score\"]\n",
    "women_fifa[\"total_goals\"] = women_fifa[\"home_score\"] + women_fifa[\"away_score\"]"
   ]
  },
  {
   "cell_type": "code",
   "execution_count": 6,
   "id": "5c4607a9",
   "metadata": {},
   "outputs": [
    {
     "data": {
      "image/png": "[encoded data removed]",
      "text/plain": [
       "<Figure size 1500x500 with 2 Axes>"
      ]
     },
     "metadata": {},
     "output_type": "display_data"
    }
   ],
   "source": [
    "fig, (ax1, ax2) = plt.subplots(1, 2, figsize = (15,5))\n",
    "sns.histplot(data = men_fifa, x = \"total_goals\", ax = ax1)\n",
    "sns.histplot(data = women_fifa, x = \"total_goals\", ax = ax2)\n",
    "plt.show()"
   ]
  },
  {
   "cell_type": "code",
   "execution_count": 7,
   "id": "6be620ac",
   "metadata": {},
   "outputs": [],
   "source": [
    "# normality not satisfied\n",
    "test = pingouin.mwu(y = men_fifa[\"total_goals\"], x = women_fifa[\"total_goals\"], alternative = \"greater\")\n",
    "p_val = test.iloc[0,2]"
   ]
  },
  {
   "cell_type": "code",
   "execution_count": 8,
   "id": "f9d3396b",
   "metadata": {},
   "outputs": [],
   "source": [
    "if p_val <= 0.01:\n",
    "    result = \"reject\"\n",
    "else:\n",
    "    result = \"fail to reject\""
   ]
  },
  {
   "cell_type": "code",
   "execution_count": 9,
   "id": "bff176a9",
   "metadata": {},
   "outputs": [
    {
     "name": "stdout",
     "output_type": "stream",
     "text": [
      "{'p_val': np.float64(0.0051066098254436395), 'result': 'reject'}\n"
     ]
    }
   ],
   "source": [
    "result_dict = {\"p_val\": p_val, \"result\": result}\n",
    "print(result_dict)"
   ]
  }
 ],
 "metadata": {
  "kernelspec": {
   "display_name": "Python 3",
   "language": "python",
   "name": "python3"
  },
  "language_info": {
   "codemirror_mode": {
    "name": "ipython",
    "version": 3
   },
   "file_extension": ".py",
   "mimetype": "text/x-python",
   "name": "python",
   "nbconvert_exporter": "python",
   "pygments_lexer": "ipython3",
   "version": "3.9.6"
  }
 },
 "nbformat": 4,
 "nbformat_minor": 5
}
